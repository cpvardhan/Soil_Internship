{
 "cells": [
  {
   "cell_type": "markdown",
   "id": "f43edc07",
   "metadata": {},
   "source": [
    "## This is a Task given by the HR of the SOIL company"
   ]
  },
  {
   "cell_type": "markdown",
   "id": "287b0e78",
   "metadata": {
    "ExecuteTime": {
     "end_time": "2022-01-15T15:44:00.256971Z",
     "start_time": "2022-01-15T15:44:00.246996Z"
    }
   },
   "source": [
    "### Task: The Task is to get any educational website and scrap all the data and convert the scrapped data into csv and json format "
   ]
  },
  {
   "cell_type": "markdown",
   "id": "0f8ef6cc",
   "metadata": {},
   "source": [
    "### website URL https://testbook.com/objective-questions/mcq-on-valuation--5eea6a0c39140f30f369e0bc"
   ]
  },
  {
   "cell_type": "markdown",
   "id": "63528207",
   "metadata": {},
   "source": [
    "### Importing the neccesary Libraries"
   ]
  },
  {
   "cell_type": "code",
   "execution_count": 1,
   "id": "631489f8",
   "metadata": {
    "ExecuteTime": {
     "end_time": "2022-01-15T17:49:23.299209Z",
     "start_time": "2022-01-15T17:49:21.517477Z"
    }
   },
   "outputs": [],
   "source": [
    "import requests\n",
    "from bs4 import BeautifulSoup\n",
    "import pandas as pd"
   ]
  },
  {
   "cell_type": "code",
   "execution_count": 2,
   "id": "66bb6c34",
   "metadata": {
    "ExecuteTime": {
     "end_time": "2022-01-15T17:49:23.331090Z",
     "start_time": "2022-01-15T17:49:23.305157Z"
    }
   },
   "outputs": [],
   "source": [
    "def request(url):\n",
    "    \"\"\"\n",
    "    This function takes the website URL and checks whether the url is good or not .\n",
    "    It checks the status code of the given website and return the relevant parameters\n",
    "    for more status code refer below documentation\n",
    "    https://developer.mozilla.org/en-US/docs/Web/HTTP/Status\n",
    "    \"\"\"\n",
    "    try:\n",
    "        request = requests.get(url)\n",
    "        status_code = request.status_code\n",
    "        if status_code < 199:\n",
    "            return \"Informational responses \"\n",
    "        if status_code == 200:\n",
    "            return request\n",
    "        else:\n",
    "            return \"Something went wrong while getting the data from the given website\"\n",
    "\n",
    "    except Exception as e:\n",
    "        raise Exception(f\"(request): Something went wrong  \\n\"+str(e))"
   ]
  },
  {
   "cell_type": "code",
   "execution_count": 3,
   "id": "394a3f68",
   "metadata": {
    "ExecuteTime": {
     "end_time": "2022-01-15T17:49:23.500643Z",
     "start_time": "2022-01-15T17:49:23.338070Z"
    }
   },
   "outputs": [],
   "source": [
    "def get_soup(url):\n",
    "    \"\"\"\n",
    "    this function takes the request and pass the text and converts into beautiful Soup \n",
    "    \"\"\"\n",
    "    try:\n",
    "        soup = BeautifulSoup(url.text, 'html.parser')\n",
    "        return soup\n",
    "    except Exception as e:\n",
    "        raise Exception(f\"(get_soup): Something went wrong  \\n\"+str(e))"
   ]
  },
  {
   "cell_type": "code",
   "execution_count": 4,
   "id": "6420a0b3",
   "metadata": {
    "ExecuteTime": {
     "end_time": "2022-01-15T17:49:25.235249Z",
     "start_time": "2022-01-15T17:49:23.503635Z"
    }
   },
   "outputs": [],
   "source": [
    "website_url = 'https://testbook.com/objective-questions/mcq-on-valuation--5eea6a0c39140f30f369e0bc'\n",
    "url = request(website_url)"
   ]
  },
  {
   "cell_type": "code",
   "execution_count": 5,
   "id": "61525b48",
   "metadata": {
    "ExecuteTime": {
     "end_time": "2022-01-15T17:49:25.524329Z",
     "start_time": "2022-01-15T17:49:25.238247Z"
    }
   },
   "outputs": [],
   "source": [
    "soup = get_soup(url)"
   ]
  },
  {
   "cell_type": "markdown",
   "id": "73563d15",
   "metadata": {},
   "source": [
    "### Parsing the soup and extracts the questions from the url"
   ]
  },
  {
   "cell_type": "code",
   "execution_count": 6,
   "id": "7d2ec4bb",
   "metadata": {
    "ExecuteTime": {
     "end_time": "2022-01-15T17:49:25.540037Z",
     "start_time": "2022-01-15T17:49:25.528070Z"
    }
   },
   "outputs": [],
   "source": [
    "def questions(soup):\n",
    "    \"\"\"\n",
    "    This function extracts the all the questions from the given URL and return the questions in the list\n",
    "    \"\"\"\n",
    "    try:\n",
    "        questions = []  # creating a empty list to stores the questions\n",
    "        questionbox = soup.findAll('div', {'class': 'card question-card'})\n",
    "        for i in range(len(questionbox)):\n",
    "            question = questionbox[i].find_all('h1', {'class': 'questionBody'})\n",
    "            question = str(question)  # converting the bs.element into string\n",
    "            # starting element of the string\n",
    "            start = '[<h1 class=\"questionBody\">'\n",
    "            end = '</h1>]'  # ending element of the string\n",
    "            question = (question.split(start))[1].split(end)[0]\n",
    "            questions.append(question)\n",
    "        return questions\n",
    "    except Exception as e:\n",
    "        raise Exception(f\"(questions): Something went wrong  \\n\"+str(e))"
   ]
  },
  {
   "cell_type": "code",
   "execution_count": 7,
   "id": "94185ce1",
   "metadata": {
    "ExecuteTime": {
     "end_time": "2022-01-15T17:49:25.805142Z",
     "start_time": "2022-01-15T17:49:25.544026Z"
    }
   },
   "outputs": [],
   "source": [
    "questions_list = questions(soup)"
   ]
  },
  {
   "cell_type": "code",
   "execution_count": 8,
   "id": "bc94fd7b",
   "metadata": {
    "ExecuteTime": {
     "end_time": "2022-01-15T17:49:26.073892Z",
     "start_time": "2022-01-15T17:49:25.814053Z"
    }
   },
   "outputs": [],
   "source": [
    "def answers(soup):\n",
    "    \"\"\"\n",
    "    This function scraps all the answers from the given url and returns the  answers presents in a list \n",
    "    \"\"\"\n",
    "    try:\n",
    "        answerbox = soup.findAll('div', {'class': 'card answer-card'})\n",
    "        answers_list = []  # Creating an empty list while will store the answers later\n",
    "        for i in range(20):\n",
    "            answer = answerbox[i].findAll('div', {'class': \"\"})\n",
    "            answer = str(answer)\n",
    "            start = '[<div class=\"\">'  # starting element of the string\n",
    "            end = '</div>]'  # ending element of the string\n",
    "            answer = (answer.split(start))[1].split(end)[0]\n",
    "            answers_list.append(answer)\n",
    "        return answers_list\n",
    "    except Exception as e:\n",
    "        raise Exception(f\"(answers): Something went wrong  \\n\"+str(e))"
   ]
  },
  {
   "cell_type": "code",
   "execution_count": 9,
   "id": "8cccd965",
   "metadata": {
    "ExecuteTime": {
     "end_time": "2022-01-15T17:49:26.199545Z",
     "start_time": "2022-01-15T17:49:26.078881Z"
    }
   },
   "outputs": [],
   "source": [
    "answers_list = answers(soup)"
   ]
  },
  {
   "cell_type": "code",
   "execution_count": 10,
   "id": "a378ffa9",
   "metadata": {
    "ExecuteTime": {
     "end_time": "2022-01-15T17:49:26.449110Z",
     "start_time": "2022-01-15T17:49:26.202542Z"
    }
   },
   "outputs": [],
   "source": [
    "def options(soup):\n",
    "    \"\"\"\n",
    "    This function returns the all the options presents in the webpage and returns the options in a list \n",
    "    \"\"\"\n",
    "    try:\n",
    "        options_list = []  # creating a empty list to stores all the options in the webpage\n",
    "        questionbox = soup.findAll('div', {'class': 'card question-card'})\n",
    "        for i in range(20):\n",
    "            single_question = questionbox[i]\n",
    "            options = single_question.find_all('ol', {'class': 'options-list'})\n",
    "            options = str(options)\n",
    "            options = BeautifulSoup(options)\n",
    "            for ultag in options.find_all('ol', {'class': 'options-list'}):\n",
    "                for litag in ultag.find_all('li'):\n",
    "                    options_list.append(litag.text)\n",
    "        return options_list\n",
    "    except Exception as e:\n",
    "        raise Exception(f\"(options): Something went wrong  \\n\"+str(e))"
   ]
  },
  {
   "cell_type": "code",
   "execution_count": 11,
   "id": "42d49e7e",
   "metadata": {
    "ExecuteTime": {
     "end_time": "2022-01-15T17:49:26.668357Z",
     "start_time": "2022-01-15T17:49:26.451197Z"
    }
   },
   "outputs": [],
   "source": [
    "options_list=  options(soup)"
   ]
  },
  {
   "cell_type": "markdown",
   "id": "53a7840b",
   "metadata": {},
   "source": [
    "### Splitting the Options based on their respective Question Numbers "
   ]
  },
  {
   "cell_type": "code",
   "execution_count": 12,
   "id": "66b14696",
   "metadata": {
    "ExecuteTime": {
     "end_time": "2022-01-15T17:49:26.763978Z",
     "start_time": "2022-01-15T17:49:26.673351Z"
    }
   },
   "outputs": [],
   "source": [
    "first_Option= []\n",
    "second_Option = []\n",
    "third_Option = []\n",
    "fourth_Option = []\n",
    "for i in range(0,80):\n",
    "    if i%4 == 0:\n",
    "        first_Option.append(options_list[i])\n",
    "    elif i%4 ==1:\n",
    "        second_Option.append(options_list[i])\n",
    "    elif i%4==3:\n",
    "        fourth_Option.append(options_list[i])\n",
    "    else:\n",
    "        third_Option.append(options_list[i])"
   ]
  },
  {
   "cell_type": "markdown",
   "id": "92fb06b3",
   "metadata": {},
   "source": [
    "### Creating A DataFrame"
   ]
  },
  {
   "cell_type": "code",
   "execution_count": 13,
   "id": "6e711808",
   "metadata": {
    "ExecuteTime": {
     "end_time": "2022-01-15T17:49:26.950081Z",
     "start_time": "2022-01-15T17:49:26.766705Z"
    }
   },
   "outputs": [],
   "source": [
    "df = pd.DataFrame(questions_list,columns =['Question'])"
   ]
  },
  {
   "cell_type": "markdown",
   "id": "5ad4e6cd",
   "metadata": {},
   "source": [
    "### Creating a dummy variable and assign the Question Number to the respective number and set the index of the dataframe"
   ]
  },
  {
   "cell_type": "code",
   "execution_count": 14,
   "id": "a94248ba",
   "metadata": {
    "ExecuteTime": {
     "end_time": "2022-01-15T17:49:27.261182Z",
     "start_time": "2022-01-15T17:49:26.952787Z"
    }
   },
   "outputs": [
    {
     "data": {
      "text/html": [
       "<div>\n",
       "<style scoped>\n",
       "    .dataframe tbody tr th:only-of-type {\n",
       "        vertical-align: middle;\n",
       "    }\n",
       "\n",
       "    .dataframe tbody tr th {\n",
       "        vertical-align: top;\n",
       "    }\n",
       "\n",
       "    .dataframe thead th {\n",
       "        text-align: right;\n",
       "    }\n",
       "</style>\n",
       "<table border=\"1\" class=\"dataframe\">\n",
       "  <thead>\n",
       "    <tr style=\"text-align: right;\">\n",
       "      <th></th>\n",
       "      <th>Question</th>\n",
       "    </tr>\n",
       "    <tr>\n",
       "      <th>Question_No</th>\n",
       "      <th></th>\n",
       "    </tr>\n",
       "  </thead>\n",
       "  <tbody>\n",
       "    <tr>\n",
       "      <th>1</th>\n",
       "      <td>Calculate the years purchase for a property of...</td>\n",
       "    </tr>\n",
       "    <tr>\n",
       "      <th>2</th>\n",
       "      <td>The total area of floor in-between walls and c...</td>\n",
       "    </tr>\n",
       "    <tr>\n",
       "      <th>3</th>\n",
       "      <td>Determine the present value of a building that...</td>\n",
       "    </tr>\n",
       "    <tr>\n",
       "      <th>4</th>\n",
       "      <td>A construction equipment has an initial cost o...</td>\n",
       "    </tr>\n",
       "    <tr>\n",
       "      <th>5</th>\n",
       "      <td>The value at the end of the utility period wit...</td>\n",
       "    </tr>\n",
       "    <tr>\n",
       "      <th>6</th>\n",
       "      <td>Which among the following methods of calculati...</td>\n",
       "    </tr>\n",
       "    <tr>\n",
       "      <th>7</th>\n",
       "      <td>For Mortgage purposes, the mortgage value of a...</td>\n",
       "    </tr>\n",
       "    <tr>\n",
       "      <th>8</th>\n",
       "      <td>For estimation of painting area of corrugated ...</td>\n",
       "    </tr>\n",
       "    <tr>\n",
       "      <th>9</th>\n",
       "      <td>The value of the property shown in the account...</td>\n",
       "    </tr>\n",
       "    <tr>\n",
       "      <th>10</th>\n",
       "      <td>A test facility setup coast Rs. 10,00,000 at t...</td>\n",
       "    </tr>\n",
       "    <tr>\n",
       "      <th>11</th>\n",
       "      <td>A document containing detailed description of ...</td>\n",
       "    </tr>\n",
       "    <tr>\n",
       "      <th>12</th>\n",
       "      <td>An old building has been purchased by a person...</td>\n",
       "    </tr>\n",
       "    <tr>\n",
       "      <th>13</th>\n",
       "      <td>&lt;p&gt;Which of the following statements in relati...</td>\n",
       "    </tr>\n",
       "    <tr>\n",
       "      <th>14</th>\n",
       "      <td>&lt;p&gt;A property fetches Rs. 9000/- deduction all...</td>\n",
       "    </tr>\n",
       "    <tr>\n",
       "      <th>15</th>\n",
       "      <td>What percentage of total cost is added to the ...</td>\n",
       "    </tr>\n",
       "    <tr>\n",
       "      <th>16</th>\n",
       "      <td>The expected outturn of 2.5 cm cement concrete...</td>\n",
       "    </tr>\n",
       "    <tr>\n",
       "      <th>17</th>\n",
       "      <td>The book value of a property in a particular y...</td>\n",
       "    </tr>\n",
       "    <tr>\n",
       "      <th>18</th>\n",
       "      <td>Calculate the primary estimate including contr...</td>\n",
       "    </tr>\n",
       "    <tr>\n",
       "      <th>19</th>\n",
       "      <td>&lt;p&gt;In valuation, identify the method that is &lt;...</td>\n",
       "    </tr>\n",
       "    <tr>\n",
       "      <th>20</th>\n",
       "      <td>What percentage of the total cost is added in ...</td>\n",
       "    </tr>\n",
       "  </tbody>\n",
       "</table>\n",
       "</div>"
      ],
      "text/plain": [
       "                                                      Question\n",
       "Question_No                                                   \n",
       "1            Calculate the years purchase for a property of...\n",
       "2            The total area of floor in-between walls and c...\n",
       "3            Determine the present value of a building that...\n",
       "4            A construction equipment has an initial cost o...\n",
       "5            The value at the end of the utility period wit...\n",
       "6            Which among the following methods of calculati...\n",
       "7            For Mortgage purposes, the mortgage value of a...\n",
       "8            For estimation of painting area of corrugated ...\n",
       "9            The value of the property shown in the account...\n",
       "10           A test facility setup coast Rs. 10,00,000 at t...\n",
       "11           A document containing detailed description of ...\n",
       "12           An old building has been purchased by a person...\n",
       "13           <p>Which of the following statements in relati...\n",
       "14           <p>A property fetches Rs. 9000/- deduction all...\n",
       "15           What percentage of total cost is added to the ...\n",
       "16           The expected outturn of 2.5 cm cement concrete...\n",
       "17           The book value of a property in a particular y...\n",
       "18           Calculate the primary estimate including contr...\n",
       "19           <p>In valuation, identify the method that is <...\n",
       "20           What percentage of the total cost is added in ..."
      ]
     },
     "execution_count": 14,
     "metadata": {},
     "output_type": "execute_result"
    }
   ],
   "source": [
    "df['Question_No'] = [i for i in range(1,21)]\n",
    "df.set_index('Question_No')"
   ]
  },
  {
   "cell_type": "markdown",
   "id": "95e2f9a3",
   "metadata": {},
   "source": [
    "###  Assigning the Options to the Dataframe"
   ]
  },
  {
   "cell_type": "code",
   "execution_count": 15,
   "id": "ce10fe06",
   "metadata": {
    "ExecuteTime": {
     "end_time": "2022-01-15T17:49:27.418400Z",
     "start_time": "2022-01-15T17:49:27.267163Z"
    }
   },
   "outputs": [],
   "source": [
    "df['first_Option'] = first_Option\n",
    "df['Second_Option'] = second_Option\n",
    "df['Third_Option'] = third_Option\n",
    "df['Fourth_Option'] = fourth_Option\n",
    "df['Answers_list'] = answers_list"
   ]
  },
  {
   "cell_type": "markdown",
   "id": "8de85463",
   "metadata": {},
   "source": [
    "### Checking the Dataframe"
   ]
  },
  {
   "cell_type": "code",
   "execution_count": 16,
   "id": "6f4ab428",
   "metadata": {
    "ExecuteTime": {
     "end_time": "2022-01-15T17:49:27.588840Z",
     "start_time": "2022-01-15T17:49:27.423993Z"
    }
   },
   "outputs": [
    {
     "data": {
      "text/html": [
       "<div>\n",
       "<style scoped>\n",
       "    .dataframe tbody tr th:only-of-type {\n",
       "        vertical-align: middle;\n",
       "    }\n",
       "\n",
       "    .dataframe tbody tr th {\n",
       "        vertical-align: top;\n",
       "    }\n",
       "\n",
       "    .dataframe thead th {\n",
       "        text-align: right;\n",
       "    }\n",
       "</style>\n",
       "<table border=\"1\" class=\"dataframe\">\n",
       "  <thead>\n",
       "    <tr style=\"text-align: right;\">\n",
       "      <th></th>\n",
       "      <th>Question</th>\n",
       "      <th>Question_No</th>\n",
       "      <th>first_Option</th>\n",
       "      <th>Second_Option</th>\n",
       "      <th>Third_Option</th>\n",
       "      <th>Fourth_Option</th>\n",
       "      <th>Answers_list</th>\n",
       "    </tr>\n",
       "  </thead>\n",
       "  <tbody>\n",
       "    <tr>\n",
       "      <th>0</th>\n",
       "      <td>Calculate the years purchase for a property of...</td>\n",
       "      <td>1</td>\n",
       "      <td>12.5</td>\n",
       "      <td>14</td>\n",
       "      <td>17</td>\n",
       "      <td>22</td>\n",
       "      <td>Option 2 : 14</td>\n",
       "    </tr>\n",
       "    <tr>\n",
       "      <th>1</th>\n",
       "      <td>The total area of floor in-between walls and c...</td>\n",
       "      <td>2</td>\n",
       "      <td>circulation area</td>\n",
       "      <td>plinth area</td>\n",
       "      <td>floor area</td>\n",
       "      <td>carpet area</td>\n",
       "      <td>Option 3 : floor area</td>\n",
       "    </tr>\n",
       "    <tr>\n",
       "      <th>2</th>\n",
       "      <td>Determine the present value of a building that...</td>\n",
       "      <td>3</td>\n",
       "      <td>Rs. 24,000</td>\n",
       "      <td>Rs. 25,000</td>\n",
       "      <td>Rs. 23,000</td>\n",
       "      <td>Rs. 15,000</td>\n",
       "      <td>Option 3 : Rs. 23,000</td>\n",
       "    </tr>\n",
       "    <tr>\n",
       "      <th>3</th>\n",
       "      <td>A construction equipment has an initial cost o...</td>\n",
       "      <td>4</td>\n",
       "      <td>0.1 and Rs. 1,50,000</td>\n",
       "      <td>0.2 and Rs. 1,50,000</td>\n",
       "      <td>0.1 and Rs. 1,00,000</td>\n",
       "      <td>0.2 and Rs. 1,00,000</td>\n",
       "      <td>Option 2 : 0.2 and Rs. 1,50,000</td>\n",
       "    </tr>\n",
       "    <tr>\n",
       "      <th>4</th>\n",
       "      <td>The value at the end of the utility period wit...</td>\n",
       "      <td>5</td>\n",
       "      <td>Market value</td>\n",
       "      <td>Salvage value</td>\n",
       "      <td>Scrap value</td>\n",
       "      <td>Book value</td>\n",
       "      <td>Option 2 : Salvage value</td>\n",
       "    </tr>\n",
       "    <tr>\n",
       "      <th>5</th>\n",
       "      <td>Which among the following methods of calculati...</td>\n",
       "      <td>6</td>\n",
       "      <td>Straight-line method</td>\n",
       "      <td>Constant percentage method</td>\n",
       "      <td>Sinking fund method</td>\n",
       "      <td>Quantity survey method</td>\n",
       "      <td>Option 4 : Quantity survey method</td>\n",
       "    </tr>\n",
       "    <tr>\n",
       "      <th>6</th>\n",
       "      <td>For Mortgage purposes, the mortgage value of a...</td>\n",
       "      <td>7</td>\n",
       "      <td>\\(\\frac{1}{2}to\\;\\frac{2}{3}\\;of\\;the\\;capital...</td>\n",
       "      <td>\\(\\frac{1}{3}to\\;\\frac{3}{4}\\;of\\;the\\;capital...</td>\n",
       "      <td>\\(\\frac{1}{8}to\\;\\frac{1}{{16}}\\;of\\;the\\;capi...</td>\n",
       "      <td>\\(\\frac{1}{5}to\\;\\frac{1}{{10}}\\;of\\;the\\;capi...</td>\n",
       "      <td>Option 1 : &lt;span class=\"math-tex\"&gt;\\(\\frac{1}{2...</td>\n",
       "    </tr>\n",
       "    <tr>\n",
       "      <th>7</th>\n",
       "      <td>For estimation of painting area of corrugated ...</td>\n",
       "      <td>8</td>\n",
       "      <td>10%</td>\n",
       "      <td>14%</td>\n",
       "      <td>20%</td>\n",
       "      <td>25%</td>\n",
       "      <td>Option 2 : 14%</td>\n",
       "    </tr>\n",
       "    <tr>\n",
       "      <th>8</th>\n",
       "      <td>The value of the property shown in the account...</td>\n",
       "      <td>9</td>\n",
       "      <td>Scrap value</td>\n",
       "      <td>Salvage value</td>\n",
       "      <td>Book value</td>\n",
       "      <td>Market value</td>\n",
       "      <td>Option 3 : Book value</td>\n",
       "    </tr>\n",
       "    <tr>\n",
       "      <th>9</th>\n",
       "      <td>A test facility setup coast Rs. 10,00,000 at t...</td>\n",
       "      <td>10</td>\n",
       "      <td>Rs. 5,75,000</td>\n",
       "      <td>Rs. 4,75,000</td>\n",
       "      <td>Rs. 5,00,000</td>\n",
       "      <td>Rs. 5,25,000</td>\n",
       "      <td>Option 4 : Rs. 5,25,000</td>\n",
       "    </tr>\n",
       "    <tr>\n",
       "      <th>10</th>\n",
       "      <td>A document containing detailed description of ...</td>\n",
       "      <td>11</td>\n",
       "      <td>Tender</td>\n",
       "      <td>Schedule of rates</td>\n",
       "      <td>Analysis of rate</td>\n",
       "      <td>Abstract estimate</td>\n",
       "      <td>Option 2 : Schedule of rates</td>\n",
       "    </tr>\n",
       "    <tr>\n",
       "      <th>11</th>\n",
       "      <td>An old building has been purchased by a person...</td>\n",
       "      <td>12</td>\n",
       "      <td>Rs. 400.20</td>\n",
       "      <td>Rs. 200.70</td>\n",
       "      <td>Rs. 906.70</td>\n",
       "      <td>Rs. 890.70</td>\n",
       "      <td>Option 3 : Rs. 906.70</td>\n",
       "    </tr>\n",
       "    <tr>\n",
       "      <th>12</th>\n",
       "      <td>&lt;p&gt;Which of the following statements in relati...</td>\n",
       "      <td>13</td>\n",
       "      <td>V2 only</td>\n",
       "      <td>V1 only</td>\n",
       "      <td>V1 and V3</td>\n",
       "      <td>V3 only</td>\n",
       "      <td>Option 1 : V2 only</td>\n",
       "    </tr>\n",
       "    <tr>\n",
       "      <th>13</th>\n",
       "      <td>&lt;p&gt;A property fetches Rs. 9000/- deduction all...</td>\n",
       "      <td>14</td>\n",
       "      <td>Rs. 1,22,500</td>\n",
       "      <td>Rs. 1,32,500</td>\n",
       "      <td>Rs. 1,34,500</td>\n",
       "      <td>Rs. 1,12,500</td>\n",
       "      <td>Option 4 : Rs. 1,12,500</td>\n",
       "    </tr>\n",
       "    <tr>\n",
       "      <th>14</th>\n",
       "      <td>What percentage of total cost is added to the ...</td>\n",
       "      <td>15</td>\n",
       "      <td>10%</td>\n",
       "      <td>15%</td>\n",
       "      <td>18%</td>\n",
       "      <td>21.5%</td>\n",
       "      <td>Option 1 : 10%</td>\n",
       "    </tr>\n",
       "    <tr>\n",
       "      <th>15</th>\n",
       "      <td>The expected outturn of 2.5 cm cement concrete...</td>\n",
       "      <td>16</td>\n",
       "      <td>2.5 square meter</td>\n",
       "      <td>5.0 square meter</td>\n",
       "      <td>7.5 square meter</td>\n",
       "      <td>10 square meter</td>\n",
       "      <td>Option 3 : 7.5 square meter</td>\n",
       "    </tr>\n",
       "    <tr>\n",
       "      <th>16</th>\n",
       "      <td>The book value of a property in a particular y...</td>\n",
       "      <td>17</td>\n",
       "      <td>value at the end of utility period</td>\n",
       "      <td>original cost minus the amount of depreciation...</td>\n",
       "      <td>market value</td>\n",
       "      <td>original cost minus the amount of depreciation...</td>\n",
       "      <td>Option 4 : original cost minus the amount of d...</td>\n",
       "    </tr>\n",
       "    <tr>\n",
       "      <th>17</th>\n",
       "      <td>Calculate the primary estimate including contr...</td>\n",
       "      <td>18</td>\n",
       "      <td>30,00,000</td>\n",
       "      <td>31,50,000</td>\n",
       "      <td>33,00,000</td>\n",
       "      <td>35,00,000</td>\n",
       "      <td>Option 3 : 33,00,000</td>\n",
       "    </tr>\n",
       "    <tr>\n",
       "      <th>18</th>\n",
       "      <td>&lt;p&gt;In valuation, identify the method that is &lt;...</td>\n",
       "      <td>19</td>\n",
       "      <td>Capital value method</td>\n",
       "      <td>Profit-based method</td>\n",
       "      <td>Rental method</td>\n",
       "      <td>Amortisation method</td>\n",
       "      <td>Option 4 : Amortisation method</td>\n",
       "    </tr>\n",
       "    <tr>\n",
       "      <th>19</th>\n",
       "      <td>What percentage of the total cost is added in ...</td>\n",
       "      <td>20</td>\n",
       "      <td>2%</td>\n",
       "      <td>5%</td>\n",
       "      <td>10%</td>\n",
       "      <td>15%</td>\n",
       "      <td>Option 2 : 5%</td>\n",
       "    </tr>\n",
       "  </tbody>\n",
       "</table>\n",
       "</div>"
      ],
      "text/plain": [
       "                                             Question  Question_No  \\\n",
       "0   Calculate the years purchase for a property of...            1   \n",
       "1   The total area of floor in-between walls and c...            2   \n",
       "2   Determine the present value of a building that...            3   \n",
       "3   A construction equipment has an initial cost o...            4   \n",
       "4   The value at the end of the utility period wit...            5   \n",
       "5   Which among the following methods of calculati...            6   \n",
       "6   For Mortgage purposes, the mortgage value of a...            7   \n",
       "7   For estimation of painting area of corrugated ...            8   \n",
       "8   The value of the property shown in the account...            9   \n",
       "9   A test facility setup coast Rs. 10,00,000 at t...           10   \n",
       "10  A document containing detailed description of ...           11   \n",
       "11  An old building has been purchased by a person...           12   \n",
       "12  <p>Which of the following statements in relati...           13   \n",
       "13  <p>A property fetches Rs. 9000/- deduction all...           14   \n",
       "14  What percentage of total cost is added to the ...           15   \n",
       "15  The expected outturn of 2.5 cm cement concrete...           16   \n",
       "16  The book value of a property in a particular y...           17   \n",
       "17  Calculate the primary estimate including contr...           18   \n",
       "18  <p>In valuation, identify the method that is <...           19   \n",
       "19  What percentage of the total cost is added in ...           20   \n",
       "\n",
       "                                         first_Option  \\\n",
       "0                                                12.5   \n",
       "1                                    circulation area   \n",
       "2                                          Rs. 24,000   \n",
       "3                                0.1 and Rs. 1,50,000   \n",
       "4                                        Market value   \n",
       "5                                Straight-line method   \n",
       "6   \\(\\frac{1}{2}to\\;\\frac{2}{3}\\;of\\;the\\;capital...   \n",
       "7                                                 10%   \n",
       "8                                         Scrap value   \n",
       "9                                        Rs. 5,75,000   \n",
       "10                                             Tender   \n",
       "11                                         Rs. 400.20   \n",
       "12                                            V2 only   \n",
       "13                                       Rs. 1,22,500   \n",
       "14                                                10%   \n",
       "15                                   2.5 square meter   \n",
       "16                 value at the end of utility period   \n",
       "17                                          30,00,000   \n",
       "18                               Capital value method   \n",
       "19                                                 2%   \n",
       "\n",
       "                                        Second_Option  \\\n",
       "0                                                  14   \n",
       "1                                         plinth area   \n",
       "2                                          Rs. 25,000   \n",
       "3                                0.2 and Rs. 1,50,000   \n",
       "4                                       Salvage value   \n",
       "5                          Constant percentage method   \n",
       "6   \\(\\frac{1}{3}to\\;\\frac{3}{4}\\;of\\;the\\;capital...   \n",
       "7                                                 14%   \n",
       "8                                       Salvage value   \n",
       "9                                        Rs. 4,75,000   \n",
       "10                                  Schedule of rates   \n",
       "11                                         Rs. 200.70   \n",
       "12                                            V1 only   \n",
       "13                                       Rs. 1,32,500   \n",
       "14                                                15%   \n",
       "15                                   5.0 square meter   \n",
       "16  original cost minus the amount of depreciation...   \n",
       "17                                          31,50,000   \n",
       "18                                Profit-based method   \n",
       "19                                                 5%   \n",
       "\n",
       "                                         Third_Option  \\\n",
       "0                                                  17   \n",
       "1                                          floor area   \n",
       "2                                          Rs. 23,000   \n",
       "3                                0.1 and Rs. 1,00,000   \n",
       "4                                         Scrap value   \n",
       "5                                 Sinking fund method   \n",
       "6   \\(\\frac{1}{8}to\\;\\frac{1}{{16}}\\;of\\;the\\;capi...   \n",
       "7                                                 20%   \n",
       "8                                          Book value   \n",
       "9                                        Rs. 5,00,000   \n",
       "10                                   Analysis of rate   \n",
       "11                                         Rs. 906.70   \n",
       "12                                          V1 and V3   \n",
       "13                                       Rs. 1,34,500   \n",
       "14                                                18%   \n",
       "15                                   7.5 square meter   \n",
       "16                                       market value   \n",
       "17                                          33,00,000   \n",
       "18                                      Rental method   \n",
       "19                                                10%   \n",
       "\n",
       "                                        Fourth_Option  \\\n",
       "0                                                  22   \n",
       "1                                         carpet area   \n",
       "2                                          Rs. 15,000   \n",
       "3                                0.2 and Rs. 1,00,000   \n",
       "4                                          Book value   \n",
       "5                              Quantity survey method   \n",
       "6   \\(\\frac{1}{5}to\\;\\frac{1}{{10}}\\;of\\;the\\;capi...   \n",
       "7                                                 25%   \n",
       "8                                        Market value   \n",
       "9                                        Rs. 5,25,000   \n",
       "10                                  Abstract estimate   \n",
       "11                                         Rs. 890.70   \n",
       "12                                            V3 only   \n",
       "13                                       Rs. 1,12,500   \n",
       "14                                              21.5%   \n",
       "15                                    10 square meter   \n",
       "16  original cost minus the amount of depreciation...   \n",
       "17                                          35,00,000   \n",
       "18                                Amortisation method   \n",
       "19                                                15%   \n",
       "\n",
       "                                         Answers_list  \n",
       "0                                       Option 2 : 14  \n",
       "1                               Option 3 : floor area  \n",
       "2                               Option 3 : Rs. 23,000  \n",
       "3                     Option 2 : 0.2 and Rs. 1,50,000  \n",
       "4                            Option 2 : Salvage value  \n",
       "5                   Option 4 : Quantity survey method  \n",
       "6   Option 1 : <span class=\"math-tex\">\\(\\frac{1}{2...  \n",
       "7                                      Option 2 : 14%  \n",
       "8                               Option 3 : Book value  \n",
       "9                             Option 4 : Rs. 5,25,000  \n",
       "10                       Option 2 : Schedule of rates  \n",
       "11                              Option 3 : Rs. 906.70  \n",
       "12                                 Option 1 : V2 only  \n",
       "13                            Option 4 : Rs. 1,12,500  \n",
       "14                                     Option 1 : 10%  \n",
       "15                        Option 3 : 7.5 square meter  \n",
       "16  Option 4 : original cost minus the amount of d...  \n",
       "17                               Option 3 : 33,00,000  \n",
       "18                     Option 4 : Amortisation method  \n",
       "19                                      Option 2 : 5%  "
      ]
     },
     "execution_count": 16,
     "metadata": {},
     "output_type": "execute_result"
    }
   ],
   "source": [
    "df"
   ]
  },
  {
   "cell_type": "markdown",
   "id": "93d5875f",
   "metadata": {},
   "source": [
    "### Converting the dataframe to Comma Seperated File Using Pandas (csv)"
   ]
  },
  {
   "cell_type": "code",
   "execution_count": 17,
   "id": "6b43cb75",
   "metadata": {
    "ExecuteTime": {
     "end_time": "2022-01-15T17:49:27.698170Z",
     "start_time": "2022-01-15T17:49:27.593830Z"
    }
   },
   "outputs": [],
   "source": [
    "# df.to_csv(\"final.csv\")"
   ]
  },
  {
   "cell_type": "markdown",
   "id": "e6c56c98",
   "metadata": {},
   "source": [
    "### Converting the dataframe to json file"
   ]
  },
  {
   "cell_type": "code",
   "execution_count": 18,
   "id": "f9eef9a1",
   "metadata": {
    "ExecuteTime": {
     "end_time": "2022-01-15T17:49:27.823214Z",
     "start_time": "2022-01-15T17:49:27.700795Z"
    }
   },
   "outputs": [],
   "source": [
    "json = df.to_json()"
   ]
  },
  {
   "cell_type": "code",
   "execution_count": 19,
   "id": "49f28701",
   "metadata": {
    "ExecuteTime": {
     "end_time": "2022-01-15T17:49:28.026588Z",
     "start_time": "2022-01-15T17:49:27.827166Z"
    }
   },
   "outputs": [
    {
     "data": {
      "text/plain": [
       "'{\"Question\":{\"0\":\"Calculate the years purchase for a property of useful life of 30 years and the rate of interest of 5% per annum. The rate of interest for the sinking fund is 3%.\",\"1\":\"The total area of floor in-between walls and consists of floor of all rooms, verandahs passages, corridors, stair case, entrance halls, kitchen, stores, bath and latrines is known as ________.\",\"2\":\"Determine the present value of a building that was constructed 30 years ago at Rs. 50,000. The estimated life of the building is 50 years, at the end of which it will have 10% scrap value of its cost of construction. Depreciation is to be calculated by straight line method.\",\"3\":\"A construction equipment has an initial cost of Rs. 2,00,000 and salvage value of Rs. 50,000 at the end of an economic life of 5 years. The rate of straight-line depreciation and total depreciation will be\",\"4\":\"The value at the end of the utility period without being dismantled is termed as:\",\"5\":\"Which among the following methods of calculating depreciation involves the study of property in detail and extent of physical deterioration worked out?\",\"6\":\"For Mortgage purposes, the mortgage value of a property is taken as:\",\"7\":\"For estimation of painting area of corrugated sheets, percentage increase in area above the plain area is ____.\",\"8\":\"The value of the property shown in the account books after allowing necessary depreciation is called as\",\"9\":\"A test facility setup coast Rs. 10,00,000 at the time of installation, and its scrap value is Rs. 50,000 at the end of the useful life in 10 years. \\\\u00a0Adopting a straight line method for computation of depreciation, estimate the book value of the facility at the end of five years.\",\"10\":\"A document containing detailed description of all the items of work (but their quantities are not mentioned) together with their current rates is called _________\",\"11\":\"An old building has been purchased by a person at cost of Rs. 30,000\\\\/- excluding the\\\\u00a0cost of land. What is the amount of annual sinking fund at 4 % interest assuming\\\\u00a0the future life of building as 20 years and scrap value of building as 10 % of cost of\\\\u00a0purchase?\",\"12\":\"<p>Which of the following statements in relation to valuation of a building is <strong>FALSE<\\\\/strong>?<\\\\/p>\\\\n<p>V1: Valuation is done either for buying or selling of the property.<\\\\/p>\\\\n<p>V2: By conducting valuation the future value of the property is determined.<\\\\/p>\\\\n<p>V3: Valuation is done for rent fixation or mortgaging.<\\\\/p>\\\\n\",\"13\":\"<p>A property fetches Rs. 9000\\\\/- deduction all outgoings. If the rate of interest is 8% per annum the capitalized value of the property is______<\\\\/p>\\\\n\",\"14\":\"What percentage of total cost is added to the schedule of rates of the public work department for over-head cost\",\"15\":\"The expected outturn of 2.5 cm cement concrete floor per mason per day\",\"16\":\"The book value of a property in a particular year is the:\",\"17\":\"Calculate the primary estimate including contractor\\\\u2019s profit in rupees for the building having a plinth area of 1,500 square meters and a rate of Rs. 2,000 per square meter.\",\"18\":\"<p>In valuation, identify the method that is <strong>NOT<\\\\/strong> used for assessing the rateable value of a property.<\\\\/p>\\\\n\",\"19\":\"What percentage of the total cost is added in the cost of construction for contingencies?\"},\"Question_No\":{\"0\":1,\"1\":2,\"2\":3,\"3\":4,\"4\":5,\"5\":6,\"6\":7,\"7\":8,\"8\":9,\"9\":10,\"10\":11,\"11\":12,\"12\":13,\"13\":14,\"14\":15,\"15\":16,\"16\":17,\"17\":18,\"18\":19,\"19\":20},\"first_Option\":{\"0\":\"12.5\",\"1\":\"circulation area\",\"2\":\"Rs. 24,000\",\"3\":\"0.1 and Rs. 1,50,000\",\"4\":\"Market value\",\"5\":\"Straight-line method\",\"6\":\"\\\\\\\\(\\\\\\\\frac{1}{2}to\\\\\\\\;\\\\\\\\frac{2}{3}\\\\\\\\;of\\\\\\\\;the\\\\\\\\;capitalized\\\\\\\\;value\\\\\\\\)\",\"7\":\"10%\",\"8\":\"Scrap value\",\"9\":\"Rs. 5,75,000\",\"10\":\"Tender\",\"11\":\"Rs. 400.20\",\"12\":\"V2 only\",\"13\":\"Rs. 1,22,500\",\"14\":\"10%\",\"15\":\"2.5 square meter\",\"16\":\"value at the end of utility period\",\"17\":\"30,00,000\",\"18\":\"Capital value method\",\"19\":\"2%\"},\"Second_Option\":{\"0\":\"14\",\"1\":\"plinth area\",\"2\":\"Rs. 25,000\",\"3\":\"0.2 and Rs. 1,50,000\",\"4\":\"Salvage value\",\"5\":\"Constant percentage method\",\"6\":\"\\\\\\\\(\\\\\\\\frac{1}{3}to\\\\\\\\;\\\\\\\\frac{3}{4}\\\\\\\\;of\\\\\\\\;the\\\\\\\\;capitalized\\\\\\\\;value\\\\\\\\)\",\"7\":\"14%\",\"8\":\"Salvage value\",\"9\":\"Rs. 4,75,000\",\"10\":\"Schedule of rates\",\"11\":\"Rs. 200.70\",\"12\":\"V1 only\",\"13\":\"Rs. 1,32,500\",\"14\":\"15%\",\"15\":\"5.0 square meter\",\"16\":\"original cost minus the amount of depreciation till date\",\"17\":\"31,50,000\",\"18\":\"Profit-based method\",\"19\":\"5%\"},\"Third_Option\":{\"0\":\"17\",\"1\":\"floor area\",\"2\":\"Rs. 23,000\",\"3\":\"0.1 and Rs. 1,00,000\",\"4\":\"Scrap value\",\"5\":\"Sinking fund method\",\"6\":\"\\\\\\\\(\\\\\\\\frac{1}{8}to\\\\\\\\;\\\\\\\\frac{1}{{16}}\\\\\\\\;of\\\\\\\\;the\\\\\\\\;capitalized\\\\\\\\;value\\\\\\\\)\",\"7\":\"20%\",\"8\":\"Book value\",\"9\":\"Rs. 5,00,000\",\"10\":\"Analysis of rate\",\"11\":\"Rs. 906.70\",\"12\":\"V1 and V3\",\"13\":\"Rs. 1,34,500\",\"14\":\"18%\",\"15\":\"7.5 square meter\",\"16\":\"market value\",\"17\":\"33,00,000\",\"18\":\"Rental method\",\"19\":\"10%\"},\"Fourth_Option\":{\"0\":\"22\",\"1\":\"carpet area\",\"2\":\"Rs. 15,000\",\"3\":\"0.2 and Rs. 1,00,000\",\"4\":\"Book value\",\"5\":\"Quantity survey method\",\"6\":\"\\\\\\\\(\\\\\\\\frac{1}{5}to\\\\\\\\;\\\\\\\\frac{1}{{10}}\\\\\\\\;of\\\\\\\\;the\\\\\\\\;capitalized\\\\\\\\;value\\\\\\\\)\",\"7\":\"25%\",\"8\":\"Market value\",\"9\":\"Rs. 5,25,000\",\"10\":\"Abstract estimate\",\"11\":\"Rs. 890.70\",\"12\":\"V3 only\",\"13\":\"Rs. 1,12,500\",\"14\":\"21.5%\",\"15\":\"10 square meter\",\"16\":\"original cost minus the amount of depreciation up to the previous year\",\"17\":\"35,00,000\",\"18\":\"Amortisation method\",\"19\":\"15%\"},\"Answers_list\":{\"0\":\"Option 2 : 14\",\"1\":\"Option 3 : floor area\",\"2\":\"Option 3 : Rs. 23,000\",\"3\":\"Option 2 : 0.2 and Rs. 1,50,000\",\"4\":\"Option 2 : Salvage value\",\"5\":\"Option 4 : Quantity survey method\",\"6\":\"Option 1 : <span class=\\\\\"math-tex\\\\\">\\\\\\\\(\\\\\\\\frac{1}{2}to\\\\\\\\;\\\\\\\\frac{2}{3}\\\\\\\\;of\\\\\\\\;the\\\\\\\\;capitalized\\\\\\\\;value\\\\\\\\)<\\\\/span>\",\"7\":\"Option 2 : 14%\",\"8\":\"Option 3 : Book value\",\"9\":\"Option 4 : Rs. 5,25,000\",\"10\":\"Option 2 : Schedule of rates\",\"11\":\"Option 3 : Rs. 906.70\",\"12\":\"Option 1 : V2 only\",\"13\":\"Option 4 : Rs. 1,12,500\",\"14\":\"Option 1 : 10%\",\"15\":\"Option 3 : 7.5 square meter\",\"16\":\"Option 4 : original cost minus the amount of depreciation up to the previous year\",\"17\":\"Option 3 : 33,00,000\",\"18\":\"Option 4 : Amortisation method\",\"19\":\"Option 2 : 5%\"}}'"
      ]
     },
     "execution_count": 19,
     "metadata": {},
     "output_type": "execute_result"
    }
   ],
   "source": [
    "json"
   ]
  },
  {
   "cell_type": "code",
   "execution_count": null,
   "id": "405a1f18",
   "metadata": {},
   "outputs": [],
   "source": []
  },
  {
   "cell_type": "code",
   "execution_count": 31,
   "id": "41aa1ccb",
   "metadata": {
    "ExecuteTime": {
     "end_time": "2022-01-15T17:33:34.594783Z",
     "start_time": "2022-01-15T17:33:34.575866Z"
    },
    "scrolled": false
   },
   "outputs": [
    {
     "name": "stdout",
     "output_type": "stream",
     "text": [
      "['12.5', 'circulation area', 'Rs. 24,000', '0.1 and Rs. 1,50,000', 'Market value', 'Straight-line method', '\\\\(\\\\frac{1}{2}to\\\\;\\\\frac{2}{3}\\\\;of\\\\;the\\\\;capitalized\\\\;value\\\\)', '10%', 'Scrap value', 'Rs. 5,75,000', 'Tender', 'Rs. 400.20', 'V2 only', 'Rs. 1,22,500', '10%', '2.5 square meter', 'value at the end of utility period', '30,00,000', 'Capital value method', '2%']\n",
      "['14', 'plinth area', 'Rs. 25,000', '0.2 and Rs. 1,50,000', 'Salvage value', 'Constant percentage method', '\\\\(\\\\frac{1}{3}to\\\\;\\\\frac{3}{4}\\\\;of\\\\;the\\\\;capitalized\\\\;value\\\\)', '14%', 'Salvage value', 'Rs. 4,75,000', 'Schedule of rates', 'Rs. 200.70', 'V1 only', 'Rs. 1,32,500', '15%', '5.0 square meter', 'original cost minus the amount of depreciation till date', '31,50,000', 'Profit-based method', '5%']\n"
     ]
    }
   ],
   "source": []
  }
 ],
 "metadata": {
  "kernelspec": {
   "display_name": "Python 3 (ipykernel)",
   "language": "python",
   "name": "python3"
  },
  "language_info": {
   "codemirror_mode": {
    "name": "ipython",
    "version": 3
   },
   "file_extension": ".py",
   "mimetype": "text/x-python",
   "name": "python",
   "nbconvert_exporter": "python",
   "pygments_lexer": "ipython3",
   "version": "3.8.12"
  },
  "latex_envs": {
   "LaTeX_envs_menu_present": true,
   "autoclose": false,
   "autocomplete": true,
   "bibliofile": "biblio.bib",
   "cite_by": "apalike",
   "current_citInitial": 1,
   "eqLabelWithNumbers": true,
   "eqNumInitial": 1,
   "hotkeys": {
    "equation": "Ctrl-E",
    "itemize": "Ctrl-I"
   },
   "labels_anchors": false,
   "latex_user_defs": false,
   "report_style_numbering": false,
   "user_envs_cfg": false
  }
 },
 "nbformat": 4,
 "nbformat_minor": 5
}
